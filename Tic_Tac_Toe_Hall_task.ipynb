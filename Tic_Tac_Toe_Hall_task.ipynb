{
  "nbformat": 4,
  "nbformat_minor": 0,
  "metadata": {
    "colab": {
      "name": "Tic_Tac_Toe_Hall_task.ipynb",
      "provenance": [],
      "authorship_tag": "ABX9TyMc9vyq6CszXZTePO4luF/Y",
      "include_colab_link": true
    },
    "kernelspec": {
      "name": "python3",
      "display_name": "Python 3"
    }
  },
  "cells": [
    {
      "cell_type": "markdown",
      "metadata": {
        "id": "view-in-github",
        "colab_type": "text"
      },
      "source": [
        "<a href=\"https://colab.research.google.com/github/jaingaurav1601/Hall-opensoft-tic-tac-toe/blob/main/Tic_Tac_Toe_Hall_task.ipynb\" target=\"_parent\"><img src=\"https://colab.research.google.com/assets/colab-badge.svg\" alt=\"Open In Colab\"/></a>"
      ]
    },
    {
      "cell_type": "code",
      "metadata": {
        "colab": {
          "base_uri": "https://localhost:8080/",
          "height": 35
        },
        "id": "tODJGbj6E_Wc",
        "outputId": "ef718720-fa9b-4b29-f410-b565c60e15b2"
      },
      "source": [
        "'''\n",
        "Doing in collab Because my normal Windows VS code isn't working please accept this ipynb file as my submission for the hall task\n",
        "'''"
      ],
      "execution_count": 1,
      "outputs": [
        {
          "output_type": "execute_result",
          "data": {
            "application/vnd.google.colaboratory.intrinsic+json": {
              "type": "string"
            },
            "text/plain": [
              "\"\\nDoing in collab Because my normal Windows VS code isn't working please accept this ipynb file as my submission for the hall task\\n\""
            ]
          },
          "metadata": {
            "tags": []
          },
          "execution_count": 1
        }
      ]
    },
    {
      "cell_type": "code",
      "metadata": {
        "id": "fn0jUr9Z-cdK"
      },
      "source": [
        "theBoard = {'7': ' ' , '8': ' ' , '9': ' ' ,\n",
        "            '4': ' ' , '5': ' ' , '6': ' ' ,\n",
        "            '1': ' ' , '2': ' ' , '3': ' ' }\n",
        "\n",
        "            \n",
        "def printBoard(board):\n",
        "    print(board['7'] + '|' + board['8'] + '|' + board['9'])\n",
        "    print('-+-+-')\n",
        "    print(board['4'] + '|' + board['5'] + '|' + board['6'])\n",
        "    print('-+-+-')\n",
        "    print(board['1'] + '|' + board['2'] + '|' + board['3'])"
      ],
      "execution_count": 2,
      "outputs": []
    },
    {
      "cell_type": "code",
      "metadata": {
        "id": "CvAooJfNAqL8"
      },
      "source": [
        "keys = []\n",
        "\n",
        "for key in theBoard:\n",
        "    keys.append(key)"
      ],
      "execution_count": 3,
      "outputs": []
    },
    {
      "cell_type": "code",
      "metadata": {
        "colab": {
          "base_uri": "https://localhost:8080/"
        },
        "id": "duyajtHm-keL",
        "outputId": "423e742d-322a-4bac-e1ba-c4ca9bf8a24f"
      },
      "source": [
        "printBoard(theBoard)"
      ],
      "execution_count": 4,
      "outputs": [
        {
          "output_type": "stream",
          "text": [
            " | | \n",
            "-+-+-\n",
            " | | \n",
            "-+-+-\n",
            " | | \n"
          ],
          "name": "stdout"
        }
      ]
    },
    {
      "cell_type": "code",
      "metadata": {
        "colab": {
          "base_uri": "https://localhost:8080/"
        },
        "id": "Ry-57xkPB9bM",
        "outputId": "79ed51da-3bb2-410e-fc99-b1f27f60e9cf"
      },
      "source": [
        " \n",
        "def game():\n",
        "\n",
        "    turn = 'X'\n",
        "    count = 0\n",
        "\n",
        "\n",
        "    for i in range(10):\n",
        "        printBoard(theBoard)\n",
        "        print(\"It's your turn,\" + turn + \".Move to which place?\")\n",
        "\n",
        "        move = input()        \n",
        "\n",
        "        if theBoard[move] == ' ':\n",
        "            theBoard[move] = turn\n",
        "            count += 1\n",
        "        else:\n",
        "            print(\"That place is already filled.\\nMove to which place?\")\n",
        "            continue\n",
        "\n",
        "         \n",
        "        if count >= 5:\n",
        "            if theBoard['7'] == theBoard['8'] == theBoard['9'] != ' ': \n",
        "                printBoard(theBoard)\n",
        "                print(\"\\nGame Over.\\n\")                \n",
        "                print(\" **** \" +turn + \" won. ****\")                \n",
        "                break\n",
        "            elif theBoard['4'] == theBoard['5'] == theBoard['6'] != ' ': \n",
        "                printBoard(theBoard)\n",
        "                print(\"\\nGame Over.\\n\")                \n",
        "                print(\" **** \" +turn + \" won. ****\")\n",
        "                break\n",
        "            elif theBoard['1'] == theBoard['2'] == theBoard['3'] != ' ': \n",
        "                printBoard(theBoard)\n",
        "                print(\"\\nGame Over.\\n\")                \n",
        "                print(\" **** \" +turn + \" won. ****\")\n",
        "                break\n",
        "            elif theBoard['1'] == theBoard['4'] == theBoard['7'] != ' ': \n",
        "                printBoard(theBoard)\n",
        "                print(\"\\nGame Over.\\n\")                \n",
        "                print(\" **** \" +turn + \" won. ****\")\n",
        "                break\n",
        "            elif theBoard['2'] == theBoard['5'] == theBoard['8'] != ' ': \n",
        "                printBoard(theBoard)\n",
        "                print(\"\\nGame Over.\\n\")                \n",
        "                print(\" **** \" +turn + \" won. ****\")\n",
        "                break\n",
        "            elif theBoard['3'] == theBoard['6'] == theBoard['9'] != ' ': \n",
        "                printBoard(theBoard)\n",
        "                print(\"\\nGame Over.\\n\")                \n",
        "                print(\" **** \" +turn + \" won. ****\")\n",
        "                break \n",
        "            elif theBoard['7'] == theBoard['5'] == theBoard['3'] != ' ': \n",
        "                printBoard(theBoard)\n",
        "                print(\"\\nGame Over.\\n\")                \n",
        "                print(\" **** \" +turn + \" won. ****\")\n",
        "                break\n",
        "            elif theBoard['1'] == theBoard['5'] == theBoard['9'] != ' ': \n",
        "                printBoard(theBoard)\n",
        "                print(\"\\nGame Over.\\n\")                \n",
        "                print(\" **** \" +turn + \" won. ****\")\n",
        "                break \n",
        "\n",
        "        \n",
        "        if count == 9:\n",
        "            print(\"\\nGame Over.\\n\")                \n",
        "            print(\"It's a Tie!!\")\n",
        "            break\n",
        "\n",
        "        \n",
        "        if turn =='X':\n",
        "            turn = 'O'\n",
        "        else:\n",
        "            turn = 'X'        \n",
        "    \n",
        "    # Now we will ask if player wants to restart the game or not.\n",
        "    restart = input(\"Do want to play Again?(y/n)\")\n",
        "    if restart == \"y\" or restart == \"Y\":  \n",
        "        for key in keys:\n",
        "            theBoard[key] = \" \"\n",
        "\n",
        "        game()\n",
        "\n",
        "if __name__ == \"__main__\":\n",
        "    game()"
      ],
      "execution_count": 5,
      "outputs": [
        {
          "output_type": "stream",
          "text": [
            " | | \n",
            "-+-+-\n",
            " | | \n",
            "-+-+-\n",
            " | | \n",
            "It's your turn,X.Move to which place?\n",
            "1\n",
            " | | \n",
            "-+-+-\n",
            " | | \n",
            "-+-+-\n",
            "X| | \n",
            "It's your turn,O.Move to which place?\n",
            "5\n",
            " | | \n",
            "-+-+-\n",
            " |O| \n",
            "-+-+-\n",
            "X| | \n",
            "It's your turn,X.Move to which place?\n",
            "7\n",
            "X| | \n",
            "-+-+-\n",
            " |O| \n",
            "-+-+-\n",
            "X| | \n",
            "It's your turn,O.Move to which place?\n",
            "4\n",
            "X| | \n",
            "-+-+-\n",
            "O|O| \n",
            "-+-+-\n",
            "X| | \n",
            "It's your turn,X.Move to which place?\n",
            "6\n",
            "X| | \n",
            "-+-+-\n",
            "O|O|X\n",
            "-+-+-\n",
            "X| | \n",
            "It's your turn,O.Move to which place?\n",
            "2\n",
            "X| | \n",
            "-+-+-\n",
            "O|O|X\n",
            "-+-+-\n",
            "X|O| \n",
            "It's your turn,X.Move to which place?\n",
            "8\n",
            "X|X| \n",
            "-+-+-\n",
            "O|O|X\n",
            "-+-+-\n",
            "X|O| \n",
            "It's your turn,O.Move to which place?\n",
            "9\n",
            "X|X|O\n",
            "-+-+-\n",
            "O|O|X\n",
            "-+-+-\n",
            "X|O| \n",
            "It's your turn,X.Move to which place?\n",
            "3\n",
            "\n",
            "Game Over.\n",
            "\n",
            "It's a Tie!!\n",
            "Do want to play Again?(y/n)n\n"
          ],
          "name": "stdout"
        }
      ]
    },
    {
      "cell_type": "code",
      "metadata": {
        "id": "6IsXrjstDEEd"
      },
      "source": [
        ""
      ],
      "execution_count": 5,
      "outputs": []
    }
  ]
}